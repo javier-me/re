{
 "cells": [
  {
   "cell_type": "markdown",
   "metadata": {},
   "source": [
    "# Rental Property ROI Analysis in London\n",
    "\n",
    "This notebook analyzes potential returns on investment for residential properties in London Zones 1 and 2, considering:\n",
    "- Multiple rental yield scenarios\n",
    "- Different property appreciation rates\n",
    "- Various LTV ratios and interest rates\n",
    "- Cash ROI vs Total ROI (including equity buildup)"
   ]
  },
  {
   "cell_type": "code",
   "execution_count": null,
   "metadata": {},
   "outputs": [],
   "source": [
    "import sys\n",
    "sys.path.append('..')\n",
    "\n",
    "import numpy as np\n",
    "import pandas as pd\n",
    "import matplotlib.pyplot as plt\n",
    "import seaborn as sns\n",
    "from src.mortgage_calculator import MortgageCalculator\n",
    "from src.rental_analysis import RentalAnalyzer\n",
    "\n",
    "plt.style.use('seaborn')\n",
    "sns.set_palette('viridis')\n",
    "plt.rcParams['figure.figsize'] = [12, 8]"
   ]
  },
  {
   "cell_type": "code",
   "execution_count": null,
   "metadata": {},
   "outputs": [],
   "source": [
    "# Initialize analyzers\n",
    "mortgage_calc = MortgageCalculator()\n",
    "rental_analyzer = RentalAnalyzer()\n",
    "\n",
    "# Define analysis parameters\n",
    "property_values = np.array([500000, 750000, 1000000])\n",
    "zones = ['Zone 1', 'Zone 2']\n",
    "analysis_period = 5  # years"
   ]
  },
  {
   "cell_type": "markdown",
   "metadata": {},
   "source": [
    "## Cash ROI Analysis\n",
    "First, let's analyze the cash returns across different scenarios"
   ]
  },
  {
   "cell_type": "code",
   "execution_count": null,
   "metadata": {},
   "outputs": [],
   "source": [
    "def analyze_cash_returns(property_value, zone, ltv):\n",
    "    deposit = property_value * (1 - ltv/100)\n",
    "    loan_amount = property_value - deposit\n",
    "    rate = mortgage_calc.get_rate_for_ltv(ltv)[0]  # Using minimum rate for conservative estimate\n",
    "    \n",
    "    monthly_payment = mortgage_calc.calculate_monthly_payment(loan_amount, rate, 25)\n",
    "    return rental_analyzer.calculate_cash_roi(property_value, deposit, monthly_payment, zone)\n",
    "\n",
    "# Analyze cash returns for a £500k property in both zones\n",
    "fig, axes = plt.subplots(1, 2, figsize=(15, 6))\n",
    "\n",
    "for idx, zone in enumerate(zones):\n",
    "    ltv_results = []\n",
    "    for ltv in [60, 75, 80, 85, 90]:\n",
    "        results = analyze_cash_returns(500000, zone, ltv)\n",
    "        results['LTV'] = ltv\n",
    "        ltv_results.append(results)\n",
    "    \n",
    "    df = pd.concat(ltv_results)\n",
    "    sns.boxplot(data=df, x='LTV', y='Cash ROI', ax=axes[idx])\n",
    "    axes[idx].set_title(f'Cash ROI Distribution - {zone}')\n",
    "    axes[idx].set_ylabel('Cash ROI (%)')\n",
    "\n",
    "plt.tight_layout()\n",
    "plt.show()"
   ]
  },
  {
   "cell_type": "markdown",
   "metadata": {},
   "source": [
    "## Total ROI Analysis\n",
    "Now let's analyze total returns including property appreciation and equity buildup"
   ]
  },
  {
   "cell_type": "code",
   "execution_count": null,
   "metadata": {},
   "outputs": [],
   "source": [
    "def analyze_total_returns(property_value, zone, ltv):\n",
    "    deposit = property_value * (1 - ltv/100)\n",
    "    loan_amount = property_value - deposit\n",
    "    rate = mortgage_calc.get_rate_for_ltv(ltv)[0]  # Using minimum rate\n",
    "    \n",
    "    return rental_analyzer.calculate_total_roi(\n",
    "        property_value, deposit, loan_amount, rate, 25, zone, analysis_period)\n",
    "\n",
    "# Create heatmaps showing ROI components for different scenarios\n",
    "property_value = 500000\n",
    "ltv = 75  # Example LTV\n",
    "\n",
    "fig, axes = plt.subplots(2, 2, figsize=(15, 15))\n",
    "axes = axes.ravel()\n",
    "\n",
    "for zone_idx, zone in enumerate(zones):\n",
    "    results = analyze_total_returns(property_value, zone, ltv)\n",
    "    \n",
    "    # Reshape data for heatmap\n",
    "    pivot_data = results.pivot_table(\n",
    "        values='Annualized Total ROI',\n",
    "        index='Rental Yield',\n",
    "        columns='Appreciation Rate'\n",
    "    )\n",
    "    \n",
    "    # Plot heatmap\n",
    "    sns.heatmap(pivot_data, ax=axes[zone_idx], annot=True, fmt='.1f', cmap='YlOrRd')\n",
    "    axes[zone_idx].set_title(f'Annualized Total ROI (%) - {zone}')\n",
    "    axes[zone_idx].set_xlabel('Property Appreciation Rate (%)')\n",
    "    axes[zone_idx].set_ylabel('Rental Yield (%)')\n",
    "    \n",
    "    # Plot ROI components\n",
    "    components = results[['Cash ROI', 'Appreciation Rate', 'Annualized Total ROI']].melt(\n",
    "        id_vars=['Appreciation Rate'],\n",
    "        var_name='Component',\n",
    "        value_name='ROI'\n",
    "    )\n",
    "    \n",
    "    sns.boxplot(data=components, x='Component', y='ROI', ax=axes[zone_idx + 2])\n",
    "    axes[zone_idx + 2].set_title(f'ROI Components Distribution - {zone}')\n",
    "    axes[zone_idx + 2].set_ylabel('ROI (%)')\n",
    "\n",
    "plt.tight_layout()\n",
    "plt.show()"
   ]
  },
  {
   "cell_type": "markdown",
   "metadata": {},
   "source": [
    "## Investment Summary\n",
    "Let's create a summary of the best performing scenarios"
   ]
  },
  {
   "cell_type": "code",
   "execution_count": null,
   "metadata": {},
   "outputs": [],
   "source": [
    "# Aggregate results for different property values\n",
    "summary_results = []\n",
    "\n",
    "for value in property_values:\n",
    "    for zone in zones:\n",
    "        results = analyze_total_returns(value, zone, 75)  # Using 75% LTV as baseline\n",
    "        results['Property Value'] = value\n",
    "        results['Zone'] = zone\n",
    "        summary_results.append(results)\n",
    "\n",
    "summary_df = pd.concat(summary_results)\n",
    "\n",
    "# Display top performing scenarios\n",
    "print(\"Top 10 Scenarios by Total ROI:\")\n",
    "top_scenarios = summary_df.nlargest(10, 'Annualized Total ROI')[\n",
    "    ['Property Value', 'Zone', 'Rental Yield', 'Appreciation Rate', \n",
    "     'Cash ROI', 'Annualized Total ROI']\n",
    "].round(2)\n",
    "\n",
    "display(top_scenarios)\n",
    "\n",
    "# Calculate risk metrics\n",
    "risk_metrics = summary_df.groupby(['Zone', 'Property Value'])[\n",
    "    ['Cash ROI', 'Annualized Total ROI']\n",
    "].agg(['mean', 'std']).round(2)\n",
    "\n",
    "print(\"\\nRisk Metrics by Zone and Property Value:\")\n",
    "display(risk_metrics)"
   ]
  }
 ],
 "metadata": {
  "kernelspec": {
   "display_name": "Python 3",
   "language": "python",
   "name": "python3"
  },
  "language_info": {
   "codemirror_mode": {
    "name": "ipython",
    "version": 3
   },
   "file_extension": ".py",
   "mimetype": "text/x-python",
   "name": "python",
   "nbconvert_exporter": "python",
   "pygments_lexer": "ipython3",
   "version": "3.8.0"
  }
 },
 "nbformat": 4,
 "nbformat_minor": 4
}
